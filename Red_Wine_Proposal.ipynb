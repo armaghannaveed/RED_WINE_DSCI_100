{
 "cells": [
  {
   "cell_type": "markdown",
   "metadata": {},
   "source": [
    "# Red Wine Classification Proposal\n",
    "### By DSCI 100, Group 39"
   ]
  },
  {
   "cell_type": "markdown",
   "metadata": {},
   "source": [
    "## Introduction\n",
    "\n",
    "For our project, we will be looking at the quality of red wine and the factors that create balance. A higher-quality wine has all of its components balanced, whereas a lower-quality wine has an element that stands out more than the rest. We are trying to answer the question: how can we predict the quality of wine using its physicochemical factors? We will be using a dataset collected from 1599 samples of the red variant of Vinho Verde. The dataset contains 12 elements: fixed quality, volatile acidity, citric acid, residual sugar, chlorides, free sulfur dioxide, total sulfur dioxide, pH, sulfates, alcohol, and quality. \n",
    "\n"
   ]
  },
  {
   "cell_type": "markdown",
   "metadata": {},
   "source": [
    "## Preliminary Exploratory Data Analysis"
   ]
  },
  {
   "cell_type": "code",
   "execution_count": 95,
   "metadata": {},
   "outputs": [],
   "source": [
    "library(tidyverse)\n",
    "library(repr)\n",
    "library(tidymodels)\n",
    "options(repr.matrix.max.rows = 6)"
   ]
  },
  {
   "cell_type": "code",
   "execution_count": 96,
   "metadata": {},
   "outputs": [
    {
     "data": {
      "text/html": [
       "<table>\n",
       "<caption>A data.frame: 1599 × 12</caption>\n",
       "<thead>\n",
       "\t<tr><th scope=col>fixed.acidity</th><th scope=col>volatile.acidity</th><th scope=col>citric.acid</th><th scope=col>residual.sugar</th><th scope=col>chlorides</th><th scope=col>free.sulfur.dioxide</th><th scope=col>total.sulfur.dioxide</th><th scope=col>density</th><th scope=col>pH</th><th scope=col>sulphates</th><th scope=col>alcohol</th><th scope=col>quality</th></tr>\n",
       "\t<tr><th scope=col>&lt;chr&gt;</th><th scope=col>&lt;chr&gt;</th><th scope=col>&lt;chr&gt;</th><th scope=col>&lt;chr&gt;</th><th scope=col>&lt;chr&gt;</th><th scope=col>&lt;chr&gt;</th><th scope=col>&lt;chr&gt;</th><th scope=col>&lt;chr&gt;</th><th scope=col>&lt;chr&gt;</th><th scope=col>&lt;chr&gt;</th><th scope=col>&lt;chr&gt;</th><th scope=col>&lt;int&gt;</th></tr>\n",
       "</thead>\n",
       "<tbody>\n",
       "\t<tr><td>7.4</td><td>0.7 </td><td>0   </td><td>1.9</td><td>0.076</td><td>11</td><td>34</td><td>0.9978</td><td>3.51</td><td>0.56</td><td>9.4</td><td>5</td></tr>\n",
       "\t<tr><td>7.8</td><td>0.88</td><td>0   </td><td>2.6</td><td>0.098</td><td>25</td><td>67</td><td>0.9968</td><td>3.2 </td><td>0.68</td><td>9.8</td><td>5</td></tr>\n",
       "\t<tr><td>7.8</td><td>0.76</td><td>0.04</td><td>2.3</td><td>0.092</td><td>15</td><td>54</td><td>0.997 </td><td>3.26</td><td>0.65</td><td>9.8</td><td>5</td></tr>\n",
       "\t<tr><td>⋮</td><td>⋮</td><td>⋮</td><td>⋮</td><td>⋮</td><td>⋮</td><td>⋮</td><td>⋮</td><td>⋮</td><td>⋮</td><td>⋮</td><td>⋮</td></tr>\n",
       "\t<tr><td>6.3</td><td>0.51 </td><td>0.13</td><td>2.3</td><td>0.076</td><td>29</td><td>40</td><td>0.99574</td><td>3.42</td><td>0.75</td><td>11  </td><td>6</td></tr>\n",
       "\t<tr><td>5.9</td><td>0.645</td><td>0.12</td><td>2  </td><td>0.075</td><td>32</td><td>44</td><td>0.99547</td><td>3.57</td><td>0.71</td><td>10.2</td><td>5</td></tr>\n",
       "\t<tr><td>6  </td><td>0.31 </td><td>0.47</td><td>3.6</td><td>0.067</td><td>18</td><td>42</td><td>0.99549</td><td>3.39</td><td>0.66</td><td>11  </td><td>6</td></tr>\n",
       "</tbody>\n",
       "</table>\n"
      ],
      "text/latex": [
       "A data.frame: 1599 × 12\n",
       "\\begin{tabular}{llllllllllll}\n",
       " fixed.acidity & volatile.acidity & citric.acid & residual.sugar & chlorides & free.sulfur.dioxide & total.sulfur.dioxide & density & pH & sulphates & alcohol & quality\\\\\n",
       " <chr> & <chr> & <chr> & <chr> & <chr> & <chr> & <chr> & <chr> & <chr> & <chr> & <chr> & <int>\\\\\n",
       "\\hline\n",
       "\t 7.4 & 0.7  & 0    & 1.9 & 0.076 & 11 & 34 & 0.9978 & 3.51 & 0.56 & 9.4 & 5\\\\\n",
       "\t 7.8 & 0.88 & 0    & 2.6 & 0.098 & 25 & 67 & 0.9968 & 3.2  & 0.68 & 9.8 & 5\\\\\n",
       "\t 7.8 & 0.76 & 0.04 & 2.3 & 0.092 & 15 & 54 & 0.997  & 3.26 & 0.65 & 9.8 & 5\\\\\n",
       "\t ⋮ & ⋮ & ⋮ & ⋮ & ⋮ & ⋮ & ⋮ & ⋮ & ⋮ & ⋮ & ⋮ & ⋮\\\\\n",
       "\t 6.3 & 0.51  & 0.13 & 2.3 & 0.076 & 29 & 40 & 0.99574 & 3.42 & 0.75 & 11   & 6\\\\\n",
       "\t 5.9 & 0.645 & 0.12 & 2   & 0.075 & 32 & 44 & 0.99547 & 3.57 & 0.71 & 10.2 & 5\\\\\n",
       "\t 6   & 0.31  & 0.47 & 3.6 & 0.067 & 18 & 42 & 0.99549 & 3.39 & 0.66 & 11   & 6\\\\\n",
       "\\end{tabular}\n"
      ],
      "text/markdown": [
       "\n",
       "A data.frame: 1599 × 12\n",
       "\n",
       "| fixed.acidity &lt;chr&gt; | volatile.acidity &lt;chr&gt; | citric.acid &lt;chr&gt; | residual.sugar &lt;chr&gt; | chlorides &lt;chr&gt; | free.sulfur.dioxide &lt;chr&gt; | total.sulfur.dioxide &lt;chr&gt; | density &lt;chr&gt; | pH &lt;chr&gt; | sulphates &lt;chr&gt; | alcohol &lt;chr&gt; | quality &lt;int&gt; |\n",
       "|---|---|---|---|---|---|---|---|---|---|---|---|\n",
       "| 7.4 | 0.7  | 0    | 1.9 | 0.076 | 11 | 34 | 0.9978 | 3.51 | 0.56 | 9.4 | 5 |\n",
       "| 7.8 | 0.88 | 0    | 2.6 | 0.098 | 25 | 67 | 0.9968 | 3.2  | 0.68 | 9.8 | 5 |\n",
       "| 7.8 | 0.76 | 0.04 | 2.3 | 0.092 | 15 | 54 | 0.997  | 3.26 | 0.65 | 9.8 | 5 |\n",
       "| ⋮ | ⋮ | ⋮ | ⋮ | ⋮ | ⋮ | ⋮ | ⋮ | ⋮ | ⋮ | ⋮ | ⋮ |\n",
       "| 6.3 | 0.51  | 0.13 | 2.3 | 0.076 | 29 | 40 | 0.99574 | 3.42 | 0.75 | 11   | 6 |\n",
       "| 5.9 | 0.645 | 0.12 | 2   | 0.075 | 32 | 44 | 0.99547 | 3.57 | 0.71 | 10.2 | 5 |\n",
       "| 6   | 0.31  | 0.47 | 3.6 | 0.067 | 18 | 42 | 0.99549 | 3.39 | 0.66 | 11   | 6 |\n",
       "\n"
      ],
      "text/plain": [
       "     fixed.acidity volatile.acidity citric.acid residual.sugar chlorides\n",
       "1    7.4           0.7              0           1.9            0.076    \n",
       "2    7.8           0.88             0           2.6            0.098    \n",
       "3    7.8           0.76             0.04        2.3            0.092    \n",
       "⋮    ⋮             ⋮                ⋮           ⋮              ⋮        \n",
       "1597 6.3           0.51             0.13        2.3            0.076    \n",
       "1598 5.9           0.645            0.12        2              0.075    \n",
       "1599 6             0.31             0.47        3.6            0.067    \n",
       "     free.sulfur.dioxide total.sulfur.dioxide density pH   sulphates alcohol\n",
       "1    11                  34                   0.9978  3.51 0.56      9.4    \n",
       "2    25                  67                   0.9968  3.2  0.68      9.8    \n",
       "3    15                  54                   0.997   3.26 0.65      9.8    \n",
       "⋮    ⋮                   ⋮                    ⋮       ⋮    ⋮         ⋮      \n",
       "1597 29                  40                   0.99574 3.42 0.75      11     \n",
       "1598 32                  44                   0.99547 3.57 0.71      10.2   \n",
       "1599 18                  42                   0.99549 3.39 0.66      11     \n",
       "     quality\n",
       "1    5      \n",
       "2    5      \n",
       "3    5      \n",
       "⋮    ⋮      \n",
       "1597 6      \n",
       "1598 5      \n",
       "1599 6      "
      ]
     },
     "metadata": {},
     "output_type": "display_data"
    }
   ],
   "source": [
    "#read the dataset in Jupyter\n",
    "red_wine <- read.csv2(\"http://archive.ics.uci.edu/ml/machine-learning-databases/wine-quality/winequality-red.csv\")\n",
    "red_wine"
   ]
  },
  {
   "cell_type": "code",
   "execution_count": 97,
   "metadata": {},
   "outputs": [],
   "source": [
    "#make quality (originally ranked from 1-10) a categorical variable \n",
    "red_wine <- red_wine %>%\n",
    "    mutate(quality = case_when(quality == \"10\" ~ \"Excellent\",\n",
    "                              quality == \"9\" ~ \"Excellent\",\n",
    "                              quality == \"8\" ~ \"Good\",\n",
    "                              quality == \"7\" ~ \"Good\",\n",
    "                              quality == \"6\" ~ \"Satisfactory\",\n",
    "                              quality == \"5\" ~ \"Satisfactory\",\n",
    "                              quality == \"4\" ~ \"Bad\",\n",
    "                              quality == \"3\" ~ \"Bad\",\n",
    "                              quality == \"2\" ~ \"Poor\",\n",
    "                              quality == \"1\" ~ \"Poor\"))"
   ]
  },
  {
   "cell_type": "code",
   "execution_count": 98,
   "metadata": {},
   "outputs": [],
   "source": [
    "#we will be treating quality as a categorical variable, so we converted into a factor\n",
    "#we converted the rest of the variables into numerical variables\n",
    "red_wine <- red_wine %>% \n",
    "    mutate(fixed.acidity = as.numeric(fixed.acidity)) %>% \n",
    "    mutate(volatile.acidity = as.numeric(volatile.acidity)) %>% \n",
    "    mutate(citric.acid = as.numeric(citric.acid)) %>% \n",
    "    mutate(residual.sugar = as.numeric(residual.sugar)) %>% \n",
    "    mutate(chlorides = as.numeric(chlorides)) %>% \n",
    "    mutate(free.sulfur.dioxide = as.numeric(free.sulfur.dioxide)) %>% \n",
    "    mutate(total.sulfur.dioxide = as.numeric(total.sulfur.dioxide)) %>% \n",
    "    mutate(density = as.numeric(density)) %>% \n",
    "    mutate(pH = as.numeric(pH)) %>% \n",
    "    mutate(sulphates = as.numeric(sulphates)) %>% \n",
    "    mutate(alcohol = as.numeric(alcohol)) %>% \n",
    "    mutate(quality = as.factor(quality))"
   ]
  },
  {
   "cell_type": "code",
   "execution_count": 99,
   "metadata": {},
   "outputs": [
    {
     "data": {
      "text/html": [
       "<table>\n",
       "<caption>A data.frame: 217 × 12</caption>\n",
       "<thead>\n",
       "\t<tr><th scope=col>fixed.acidity</th><th scope=col>volatile.acidity</th><th scope=col>citric.acid</th><th scope=col>residual.sugar</th><th scope=col>chlorides</th><th scope=col>free.sulfur.dioxide</th><th scope=col>total.sulfur.dioxide</th><th scope=col>density</th><th scope=col>pH</th><th scope=col>sulphates</th><th scope=col>alcohol</th><th scope=col>quality</th></tr>\n",
       "\t<tr><th scope=col>&lt;dbl&gt;</th><th scope=col>&lt;dbl&gt;</th><th scope=col>&lt;dbl&gt;</th><th scope=col>&lt;dbl&gt;</th><th scope=col>&lt;dbl&gt;</th><th scope=col>&lt;dbl&gt;</th><th scope=col>&lt;dbl&gt;</th><th scope=col>&lt;dbl&gt;</th><th scope=col>&lt;dbl&gt;</th><th scope=col>&lt;dbl&gt;</th><th scope=col>&lt;dbl&gt;</th><th scope=col>&lt;fct&gt;</th></tr>\n",
       "</thead>\n",
       "<tbody>\n",
       "\t<tr><td>7.3</td><td>0.65</td><td>0.00</td><td>1.2</td><td>0.065</td><td>15</td><td> 21</td><td>0.9946</td><td>3.39</td><td>0.47</td><td>10.0</td><td>Good</td></tr>\n",
       "\t<tr><td>7.8</td><td>0.58</td><td>0.02</td><td>2.0</td><td>0.073</td><td> 9</td><td> 18</td><td>0.9968</td><td>3.36</td><td>0.57</td><td> 9.5</td><td>Good</td></tr>\n",
       "\t<tr><td>8.5</td><td>0.28</td><td>0.56</td><td>1.8</td><td>0.092</td><td>35</td><td>103</td><td>0.9969</td><td>3.30</td><td>0.75</td><td>10.5</td><td>Good</td></tr>\n",
       "\t<tr><td>⋮</td><td>⋮</td><td>⋮</td><td>⋮</td><td>⋮</td><td>⋮</td><td>⋮</td><td>⋮</td><td>⋮</td><td>⋮</td><td>⋮</td><td>⋮</td></tr>\n",
       "\t<tr><td>7.4</td><td>0.36</td><td>0.30</td><td>1.8</td><td>0.074</td><td>17</td><td>24</td><td>0.99419</td><td>3.24</td><td>0.70</td><td>11.40</td><td>Good</td></tr>\n",
       "\t<tr><td>7.0</td><td>0.56</td><td>0.17</td><td>1.7</td><td>0.065</td><td>15</td><td>24</td><td>0.99514</td><td>3.44</td><td>0.68</td><td>10.55</td><td>Good</td></tr>\n",
       "\t<tr><td>6.7</td><td>0.32</td><td>0.44</td><td>2.4</td><td>0.061</td><td>24</td><td>34</td><td>0.99484</td><td>3.29</td><td>0.80</td><td>11.60</td><td>Good</td></tr>\n",
       "</tbody>\n",
       "</table>\n"
      ],
      "text/latex": [
       "A data.frame: 217 × 12\n",
       "\\begin{tabular}{llllllllllll}\n",
       " fixed.acidity & volatile.acidity & citric.acid & residual.sugar & chlorides & free.sulfur.dioxide & total.sulfur.dioxide & density & pH & sulphates & alcohol & quality\\\\\n",
       " <dbl> & <dbl> & <dbl> & <dbl> & <dbl> & <dbl> & <dbl> & <dbl> & <dbl> & <dbl> & <dbl> & <fct>\\\\\n",
       "\\hline\n",
       "\t 7.3 & 0.65 & 0.00 & 1.2 & 0.065 & 15 &  21 & 0.9946 & 3.39 & 0.47 & 10.0 & Good\\\\\n",
       "\t 7.8 & 0.58 & 0.02 & 2.0 & 0.073 &  9 &  18 & 0.9968 & 3.36 & 0.57 &  9.5 & Good\\\\\n",
       "\t 8.5 & 0.28 & 0.56 & 1.8 & 0.092 & 35 & 103 & 0.9969 & 3.30 & 0.75 & 10.5 & Good\\\\\n",
       "\t ⋮ & ⋮ & ⋮ & ⋮ & ⋮ & ⋮ & ⋮ & ⋮ & ⋮ & ⋮ & ⋮ & ⋮\\\\\n",
       "\t 7.4 & 0.36 & 0.30 & 1.8 & 0.074 & 17 & 24 & 0.99419 & 3.24 & 0.70 & 11.40 & Good\\\\\n",
       "\t 7.0 & 0.56 & 0.17 & 1.7 & 0.065 & 15 & 24 & 0.99514 & 3.44 & 0.68 & 10.55 & Good\\\\\n",
       "\t 6.7 & 0.32 & 0.44 & 2.4 & 0.061 & 24 & 34 & 0.99484 & 3.29 & 0.80 & 11.60 & Good\\\\\n",
       "\\end{tabular}\n"
      ],
      "text/markdown": [
       "\n",
       "A data.frame: 217 × 12\n",
       "\n",
       "| fixed.acidity &lt;dbl&gt; | volatile.acidity &lt;dbl&gt; | citric.acid &lt;dbl&gt; | residual.sugar &lt;dbl&gt; | chlorides &lt;dbl&gt; | free.sulfur.dioxide &lt;dbl&gt; | total.sulfur.dioxide &lt;dbl&gt; | density &lt;dbl&gt; | pH &lt;dbl&gt; | sulphates &lt;dbl&gt; | alcohol &lt;dbl&gt; | quality &lt;fct&gt; |\n",
       "|---|---|---|---|---|---|---|---|---|---|---|---|\n",
       "| 7.3 | 0.65 | 0.00 | 1.2 | 0.065 | 15 |  21 | 0.9946 | 3.39 | 0.47 | 10.0 | Good |\n",
       "| 7.8 | 0.58 | 0.02 | 2.0 | 0.073 |  9 |  18 | 0.9968 | 3.36 | 0.57 |  9.5 | Good |\n",
       "| 8.5 | 0.28 | 0.56 | 1.8 | 0.092 | 35 | 103 | 0.9969 | 3.30 | 0.75 | 10.5 | Good |\n",
       "| ⋮ | ⋮ | ⋮ | ⋮ | ⋮ | ⋮ | ⋮ | ⋮ | ⋮ | ⋮ | ⋮ | ⋮ |\n",
       "| 7.4 | 0.36 | 0.30 | 1.8 | 0.074 | 17 | 24 | 0.99419 | 3.24 | 0.70 | 11.40 | Good |\n",
       "| 7.0 | 0.56 | 0.17 | 1.7 | 0.065 | 15 | 24 | 0.99514 | 3.44 | 0.68 | 10.55 | Good |\n",
       "| 6.7 | 0.32 | 0.44 | 2.4 | 0.061 | 24 | 34 | 0.99484 | 3.29 | 0.80 | 11.60 | Good |\n",
       "\n"
      ],
      "text/plain": [
       "    fixed.acidity volatile.acidity citric.acid residual.sugar chlorides\n",
       "1   7.3           0.65             0.00        1.2            0.065    \n",
       "2   7.8           0.58             0.02        2.0            0.073    \n",
       "3   8.5           0.28             0.56        1.8            0.092    \n",
       "⋮   ⋮             ⋮                ⋮           ⋮              ⋮        \n",
       "215 7.4           0.36             0.30        1.8            0.074    \n",
       "216 7.0           0.56             0.17        1.7            0.065    \n",
       "217 6.7           0.32             0.44        2.4            0.061    \n",
       "    free.sulfur.dioxide total.sulfur.dioxide density pH   sulphates alcohol\n",
       "1   15                   21                  0.9946  3.39 0.47      10.0   \n",
       "2    9                   18                  0.9968  3.36 0.57       9.5   \n",
       "3   35                  103                  0.9969  3.30 0.75      10.5   \n",
       "⋮   ⋮                   ⋮                    ⋮       ⋮    ⋮         ⋮      \n",
       "215 17                  24                   0.99419 3.24 0.70      11.40  \n",
       "216 15                  24                   0.99514 3.44 0.68      10.55  \n",
       "217 24                  34                   0.99484 3.29 0.80      11.60  \n",
       "    quality\n",
       "1   Good   \n",
       "2   Good   \n",
       "3   Good   \n",
       "⋮   ⋮      \n",
       "215 Good   \n",
       "216 Good   \n",
       "217 Good   "
      ]
     },
     "metadata": {},
     "output_type": "display_data"
    },
    {
     "data": {
      "text/html": [
       "<table>\n",
       "<caption>A data.frame: 1319 × 12</caption>\n",
       "<thead>\n",
       "\t<tr><th scope=col>fixed.acidity</th><th scope=col>volatile.acidity</th><th scope=col>citric.acid</th><th scope=col>residual.sugar</th><th scope=col>chlorides</th><th scope=col>free.sulfur.dioxide</th><th scope=col>total.sulfur.dioxide</th><th scope=col>density</th><th scope=col>pH</th><th scope=col>sulphates</th><th scope=col>alcohol</th><th scope=col>quality</th></tr>\n",
       "\t<tr><th scope=col>&lt;dbl&gt;</th><th scope=col>&lt;dbl&gt;</th><th scope=col>&lt;dbl&gt;</th><th scope=col>&lt;dbl&gt;</th><th scope=col>&lt;dbl&gt;</th><th scope=col>&lt;dbl&gt;</th><th scope=col>&lt;dbl&gt;</th><th scope=col>&lt;dbl&gt;</th><th scope=col>&lt;dbl&gt;</th><th scope=col>&lt;dbl&gt;</th><th scope=col>&lt;dbl&gt;</th><th scope=col>&lt;fct&gt;</th></tr>\n",
       "</thead>\n",
       "<tbody>\n",
       "\t<tr><td>7.4</td><td>0.70</td><td>0.00</td><td>1.9</td><td>0.076</td><td>11</td><td>34</td><td>0.9978</td><td>3.51</td><td>0.56</td><td>9.4</td><td>Satisfactory</td></tr>\n",
       "\t<tr><td>7.8</td><td>0.88</td><td>0.00</td><td>2.6</td><td>0.098</td><td>25</td><td>67</td><td>0.9968</td><td>3.20</td><td>0.68</td><td>9.8</td><td>Satisfactory</td></tr>\n",
       "\t<tr><td>7.8</td><td>0.76</td><td>0.04</td><td>2.3</td><td>0.092</td><td>15</td><td>54</td><td>0.9970</td><td>3.26</td><td>0.65</td><td>9.8</td><td>Satisfactory</td></tr>\n",
       "\t<tr><td>⋮</td><td>⋮</td><td>⋮</td><td>⋮</td><td>⋮</td><td>⋮</td><td>⋮</td><td>⋮</td><td>⋮</td><td>⋮</td><td>⋮</td><td>⋮</td></tr>\n",
       "\t<tr><td>6.3</td><td>0.510</td><td>0.13</td><td>2.3</td><td>0.076</td><td>29</td><td>40</td><td>0.99574</td><td>3.42</td><td>0.75</td><td>11.0</td><td>Satisfactory</td></tr>\n",
       "\t<tr><td>5.9</td><td>0.645</td><td>0.12</td><td>2.0</td><td>0.075</td><td>32</td><td>44</td><td>0.99547</td><td>3.57</td><td>0.71</td><td>10.2</td><td>Satisfactory</td></tr>\n",
       "\t<tr><td>6.0</td><td>0.310</td><td>0.47</td><td>3.6</td><td>0.067</td><td>18</td><td>42</td><td>0.99549</td><td>3.39</td><td>0.66</td><td>11.0</td><td>Satisfactory</td></tr>\n",
       "</tbody>\n",
       "</table>\n"
      ],
      "text/latex": [
       "A data.frame: 1319 × 12\n",
       "\\begin{tabular}{llllllllllll}\n",
       " fixed.acidity & volatile.acidity & citric.acid & residual.sugar & chlorides & free.sulfur.dioxide & total.sulfur.dioxide & density & pH & sulphates & alcohol & quality\\\\\n",
       " <dbl> & <dbl> & <dbl> & <dbl> & <dbl> & <dbl> & <dbl> & <dbl> & <dbl> & <dbl> & <dbl> & <fct>\\\\\n",
       "\\hline\n",
       "\t 7.4 & 0.70 & 0.00 & 1.9 & 0.076 & 11 & 34 & 0.9978 & 3.51 & 0.56 & 9.4 & Satisfactory\\\\\n",
       "\t 7.8 & 0.88 & 0.00 & 2.6 & 0.098 & 25 & 67 & 0.9968 & 3.20 & 0.68 & 9.8 & Satisfactory\\\\\n",
       "\t 7.8 & 0.76 & 0.04 & 2.3 & 0.092 & 15 & 54 & 0.9970 & 3.26 & 0.65 & 9.8 & Satisfactory\\\\\n",
       "\t ⋮ & ⋮ & ⋮ & ⋮ & ⋮ & ⋮ & ⋮ & ⋮ & ⋮ & ⋮ & ⋮ & ⋮\\\\\n",
       "\t 6.3 & 0.510 & 0.13 & 2.3 & 0.076 & 29 & 40 & 0.99574 & 3.42 & 0.75 & 11.0 & Satisfactory\\\\\n",
       "\t 5.9 & 0.645 & 0.12 & 2.0 & 0.075 & 32 & 44 & 0.99547 & 3.57 & 0.71 & 10.2 & Satisfactory\\\\\n",
       "\t 6.0 & 0.310 & 0.47 & 3.6 & 0.067 & 18 & 42 & 0.99549 & 3.39 & 0.66 & 11.0 & Satisfactory\\\\\n",
       "\\end{tabular}\n"
      ],
      "text/markdown": [
       "\n",
       "A data.frame: 1319 × 12\n",
       "\n",
       "| fixed.acidity &lt;dbl&gt; | volatile.acidity &lt;dbl&gt; | citric.acid &lt;dbl&gt; | residual.sugar &lt;dbl&gt; | chlorides &lt;dbl&gt; | free.sulfur.dioxide &lt;dbl&gt; | total.sulfur.dioxide &lt;dbl&gt; | density &lt;dbl&gt; | pH &lt;dbl&gt; | sulphates &lt;dbl&gt; | alcohol &lt;dbl&gt; | quality &lt;fct&gt; |\n",
       "|---|---|---|---|---|---|---|---|---|---|---|---|\n",
       "| 7.4 | 0.70 | 0.00 | 1.9 | 0.076 | 11 | 34 | 0.9978 | 3.51 | 0.56 | 9.4 | Satisfactory |\n",
       "| 7.8 | 0.88 | 0.00 | 2.6 | 0.098 | 25 | 67 | 0.9968 | 3.20 | 0.68 | 9.8 | Satisfactory |\n",
       "| 7.8 | 0.76 | 0.04 | 2.3 | 0.092 | 15 | 54 | 0.9970 | 3.26 | 0.65 | 9.8 | Satisfactory |\n",
       "| ⋮ | ⋮ | ⋮ | ⋮ | ⋮ | ⋮ | ⋮ | ⋮ | ⋮ | ⋮ | ⋮ | ⋮ |\n",
       "| 6.3 | 0.510 | 0.13 | 2.3 | 0.076 | 29 | 40 | 0.99574 | 3.42 | 0.75 | 11.0 | Satisfactory |\n",
       "| 5.9 | 0.645 | 0.12 | 2.0 | 0.075 | 32 | 44 | 0.99547 | 3.57 | 0.71 | 10.2 | Satisfactory |\n",
       "| 6.0 | 0.310 | 0.47 | 3.6 | 0.067 | 18 | 42 | 0.99549 | 3.39 | 0.66 | 11.0 | Satisfactory |\n",
       "\n"
      ],
      "text/plain": [
       "     fixed.acidity volatile.acidity citric.acid residual.sugar chlorides\n",
       "1    7.4           0.70             0.00        1.9            0.076    \n",
       "2    7.8           0.88             0.00        2.6            0.098    \n",
       "3    7.8           0.76             0.04        2.3            0.092    \n",
       "⋮    ⋮             ⋮                ⋮           ⋮              ⋮        \n",
       "1317 6.3           0.510            0.13        2.3            0.076    \n",
       "1318 5.9           0.645            0.12        2.0            0.075    \n",
       "1319 6.0           0.310            0.47        3.6            0.067    \n",
       "     free.sulfur.dioxide total.sulfur.dioxide density pH   sulphates alcohol\n",
       "1    11                  34                   0.9978  3.51 0.56      9.4    \n",
       "2    25                  67                   0.9968  3.20 0.68      9.8    \n",
       "3    15                  54                   0.9970  3.26 0.65      9.8    \n",
       "⋮    ⋮                   ⋮                    ⋮       ⋮    ⋮         ⋮      \n",
       "1317 29                  40                   0.99574 3.42 0.75      11.0   \n",
       "1318 32                  44                   0.99547 3.57 0.71      10.2   \n",
       "1319 18                  42                   0.99549 3.39 0.66      11.0   \n",
       "     quality     \n",
       "1    Satisfactory\n",
       "2    Satisfactory\n",
       "3    Satisfactory\n",
       "⋮    ⋮           \n",
       "1317 Satisfactory\n",
       "1318 Satisfactory\n",
       "1319 Satisfactory"
      ]
     },
     "metadata": {},
     "output_type": "display_data"
    },
    {
     "data": {
      "text/html": [
       "<table>\n",
       "<caption>A data.frame: 63 × 12</caption>\n",
       "<thead>\n",
       "\t<tr><th scope=col>fixed.acidity</th><th scope=col>volatile.acidity</th><th scope=col>citric.acid</th><th scope=col>residual.sugar</th><th scope=col>chlorides</th><th scope=col>free.sulfur.dioxide</th><th scope=col>total.sulfur.dioxide</th><th scope=col>density</th><th scope=col>pH</th><th scope=col>sulphates</th><th scope=col>alcohol</th><th scope=col>quality</th></tr>\n",
       "\t<tr><th scope=col>&lt;dbl&gt;</th><th scope=col>&lt;dbl&gt;</th><th scope=col>&lt;dbl&gt;</th><th scope=col>&lt;dbl&gt;</th><th scope=col>&lt;dbl&gt;</th><th scope=col>&lt;dbl&gt;</th><th scope=col>&lt;dbl&gt;</th><th scope=col>&lt;dbl&gt;</th><th scope=col>&lt;dbl&gt;</th><th scope=col>&lt;dbl&gt;</th><th scope=col>&lt;dbl&gt;</th><th scope=col>&lt;fct&gt;</th></tr>\n",
       "</thead>\n",
       "<tbody>\n",
       "\t<tr><td>7.4</td><td>0.59</td><td>0.08</td><td>4.4</td><td>0.086</td><td> 6</td><td>29</td><td>0.9974</td><td>3.38</td><td>0.50</td><td>9.0</td><td>Bad</td></tr>\n",
       "\t<tr><td>5.7</td><td>1.13</td><td>0.09</td><td>1.5</td><td>0.172</td><td> 7</td><td>19</td><td>0.9940</td><td>3.50</td><td>0.48</td><td>9.8</td><td>Bad</td></tr>\n",
       "\t<tr><td>8.8</td><td>0.61</td><td>0.30</td><td>2.8</td><td>0.088</td><td>17</td><td>46</td><td>0.9976</td><td>3.26</td><td>0.51</td><td>9.3</td><td>Bad</td></tr>\n",
       "\t<tr><td>⋮</td><td>⋮</td><td>⋮</td><td>⋮</td><td>⋮</td><td>⋮</td><td>⋮</td><td>⋮</td><td>⋮</td><td>⋮</td><td>⋮</td><td>⋮</td></tr>\n",
       "\t<tr><td>6.8</td><td>0.91</td><td>0.06</td><td>2.0</td><td>0.060</td><td>4</td><td>11</td><td>0.99592</td><td>3.53</td><td>0.64</td><td>10.90</td><td>Bad</td></tr>\n",
       "\t<tr><td>6.7</td><td>0.76</td><td>0.02</td><td>1.8</td><td>0.078</td><td>6</td><td>12</td><td>0.99600</td><td>3.55</td><td>0.63</td><td> 9.95</td><td>Bad</td></tr>\n",
       "\t<tr><td>6.9</td><td>0.48</td><td>0.20</td><td>1.9</td><td>0.082</td><td>9</td><td>23</td><td>0.99585</td><td>3.39</td><td>0.43</td><td> 9.05</td><td>Bad</td></tr>\n",
       "</tbody>\n",
       "</table>\n"
      ],
      "text/latex": [
       "A data.frame: 63 × 12\n",
       "\\begin{tabular}{llllllllllll}\n",
       " fixed.acidity & volatile.acidity & citric.acid & residual.sugar & chlorides & free.sulfur.dioxide & total.sulfur.dioxide & density & pH & sulphates & alcohol & quality\\\\\n",
       " <dbl> & <dbl> & <dbl> & <dbl> & <dbl> & <dbl> & <dbl> & <dbl> & <dbl> & <dbl> & <dbl> & <fct>\\\\\n",
       "\\hline\n",
       "\t 7.4 & 0.59 & 0.08 & 4.4 & 0.086 &  6 & 29 & 0.9974 & 3.38 & 0.50 & 9.0 & Bad\\\\\n",
       "\t 5.7 & 1.13 & 0.09 & 1.5 & 0.172 &  7 & 19 & 0.9940 & 3.50 & 0.48 & 9.8 & Bad\\\\\n",
       "\t 8.8 & 0.61 & 0.30 & 2.8 & 0.088 & 17 & 46 & 0.9976 & 3.26 & 0.51 & 9.3 & Bad\\\\\n",
       "\t ⋮ & ⋮ & ⋮ & ⋮ & ⋮ & ⋮ & ⋮ & ⋮ & ⋮ & ⋮ & ⋮ & ⋮\\\\\n",
       "\t 6.8 & 0.91 & 0.06 & 2.0 & 0.060 & 4 & 11 & 0.99592 & 3.53 & 0.64 & 10.90 & Bad\\\\\n",
       "\t 6.7 & 0.76 & 0.02 & 1.8 & 0.078 & 6 & 12 & 0.99600 & 3.55 & 0.63 &  9.95 & Bad\\\\\n",
       "\t 6.9 & 0.48 & 0.20 & 1.9 & 0.082 & 9 & 23 & 0.99585 & 3.39 & 0.43 &  9.05 & Bad\\\\\n",
       "\\end{tabular}\n"
      ],
      "text/markdown": [
       "\n",
       "A data.frame: 63 × 12\n",
       "\n",
       "| fixed.acidity &lt;dbl&gt; | volatile.acidity &lt;dbl&gt; | citric.acid &lt;dbl&gt; | residual.sugar &lt;dbl&gt; | chlorides &lt;dbl&gt; | free.sulfur.dioxide &lt;dbl&gt; | total.sulfur.dioxide &lt;dbl&gt; | density &lt;dbl&gt; | pH &lt;dbl&gt; | sulphates &lt;dbl&gt; | alcohol &lt;dbl&gt; | quality &lt;fct&gt; |\n",
       "|---|---|---|---|---|---|---|---|---|---|---|---|\n",
       "| 7.4 | 0.59 | 0.08 | 4.4 | 0.086 |  6 | 29 | 0.9974 | 3.38 | 0.50 | 9.0 | Bad |\n",
       "| 5.7 | 1.13 | 0.09 | 1.5 | 0.172 |  7 | 19 | 0.9940 | 3.50 | 0.48 | 9.8 | Bad |\n",
       "| 8.8 | 0.61 | 0.30 | 2.8 | 0.088 | 17 | 46 | 0.9976 | 3.26 | 0.51 | 9.3 | Bad |\n",
       "| ⋮ | ⋮ | ⋮ | ⋮ | ⋮ | ⋮ | ⋮ | ⋮ | ⋮ | ⋮ | ⋮ | ⋮ |\n",
       "| 6.8 | 0.91 | 0.06 | 2.0 | 0.060 | 4 | 11 | 0.99592 | 3.53 | 0.64 | 10.90 | Bad |\n",
       "| 6.7 | 0.76 | 0.02 | 1.8 | 0.078 | 6 | 12 | 0.99600 | 3.55 | 0.63 |  9.95 | Bad |\n",
       "| 6.9 | 0.48 | 0.20 | 1.9 | 0.082 | 9 | 23 | 0.99585 | 3.39 | 0.43 |  9.05 | Bad |\n",
       "\n"
      ],
      "text/plain": [
       "   fixed.acidity volatile.acidity citric.acid residual.sugar chlorides\n",
       "1  7.4           0.59             0.08        4.4            0.086    \n",
       "2  5.7           1.13             0.09        1.5            0.172    \n",
       "3  8.8           0.61             0.30        2.8            0.088    \n",
       "⋮  ⋮             ⋮                ⋮           ⋮              ⋮        \n",
       "61 6.8           0.91             0.06        2.0            0.060    \n",
       "62 6.7           0.76             0.02        1.8            0.078    \n",
       "63 6.9           0.48             0.20        1.9            0.082    \n",
       "   free.sulfur.dioxide total.sulfur.dioxide density pH   sulphates alcohol\n",
       "1   6                  29                   0.9974  3.38 0.50      9.0    \n",
       "2   7                  19                   0.9940  3.50 0.48      9.8    \n",
       "3  17                  46                   0.9976  3.26 0.51      9.3    \n",
       "⋮  ⋮                   ⋮                    ⋮       ⋮    ⋮         ⋮      \n",
       "61 4                   11                   0.99592 3.53 0.64      10.90  \n",
       "62 6                   12                   0.99600 3.55 0.63       9.95  \n",
       "63 9                   23                   0.99585 3.39 0.43       9.05  \n",
       "   quality\n",
       "1  Bad    \n",
       "2  Bad    \n",
       "3  Bad    \n",
       "⋮  ⋮      \n",
       "61 Bad    \n",
       "62 Bad    \n",
       "63 Bad    "
      ]
     },
     "metadata": {},
     "output_type": "display_data"
    }
   ],
   "source": [
    "#create a filtered dataset by quality for each classification\n",
    "#note that red_wine has no inputs for \"Excellent\" and \"Poor\"\n",
    "good_class <- red_wine %>% \n",
    "    filter(quality == \"Good\")\n",
    "good_class\n",
    "\n",
    "satisfactory_class <- red_wine %>% \n",
    "    filter(quality == \"Satisfactory\")\n",
    "satisfactory_class\n",
    "\n",
    "bad_class <- red_wine %>% \n",
    "    filter(quality == \"Bad\")\n",
    "bad_class"
   ]
  },
  {
   "cell_type": "code",
   "execution_count": 100,
   "metadata": {},
   "outputs": [
    {
     "name": "stdout",
     "output_type": "stream",
     "text": [
      "[1] 217\n",
      "[1] 1319\n",
      "[1] 63\n"
     ]
    }
   ],
   "source": [
    "#print the number of good, satisfactory, and bad classifications from the dataset\n",
    "good_class_rows <- nrow(good_class)\n",
    "print(good_class_rows)\n",
    "\n",
    "satisfactory_class_rows <- nrow(satisfactory_class)\n",
    "print(satisfactory_class_rows)\n",
    "\n",
    "bad_class_rows <- nrow(bad_class)\n",
    "print(bad_class_rows)"
   ]
  },
  {
   "cell_type": "code",
   "execution_count": 101,
   "metadata": {},
   "outputs": [
    {
     "data": {
      "image/png": "[encoded data removed]",
      "text/plain": [
       "plot without title"
      ]
     },
     "metadata": {
      "image/png": {
       "height": 480,
       "width": 720
      }
     },
     "output_type": "display_data"
    }
   ],
   "source": [
    "#create a bar graph to compare the amount of observations within each quality classification\n",
    "options(repr.plot.width = 12, repr.plot.height = 8)\n",
    "quality_distribution <- red_wine %>% \n",
    "    ggplot(aes(x = quality, fill = quality)) +\n",
    "    geom_bar() +\n",
    "    labs(x = \"Red Wine Quality Classification\", y = \"Number of Observations\", fill = \"Wine Classification\") +\n",
    "    ggtitle(\"Distribution of Red Wine Quality\") +\n",
    "    theme(text = element_text(size = 20))\n",
    "quality_distribution"
   ]
  },
  {
   "cell_type": "markdown",
   "metadata": {},
   "source": [
    "## Methods\n",
    "\n",
    "We will conduct our data analysis using all variables because they all matter for red wine quality, and we want to know how to balance the variables for excellent quality. We will have quality as the prediction result. All factors, except quality, are collected using physicochemical tests. We will be creating a model that allows us to classify the wine's quality in five categories, given its other eleven properties. The five types are: \n",
    "- Excellent wine quality: score of 9 and 10\n",
    "- Good wine quality: score of 7 and 8\n",
    "- Satisfactory wine quality: score of 5 and 6\n",
    "- Bad wine quality: score of 3 and 4\n",
    "- Poor wine quality: score 1 and 2\n",
    "\n",
    "To conduct the analysis, we will split our data into training data and testing data to avoid violating the golden rule. For training data, we will do cross-validation to ensure we can use all of our data in the training set. We use the K nearest neighbors model to predict the result. The hyperparameter of this model will be tuned to get the best outcome during cross-validation. Once we get our best model, we will predict the result on the testing data and compare it to our true quality to see this model's accuracy. The data will be visualized using a line graph to show accuracy vs. the K nearest neighbors to see how K affects our prediction accuracy."
   ]
  },
  {
   "cell_type": "markdown",
   "metadata": {},
   "source": [
    "## Expected Outcomes and Significance\n",
    "\n",
    "We expect to create a model that classifies a bottle of wine based on its chemical properties and identifies the accuracy with which it makes these predictions. Our result can have significance for various shareholders such as direct consumers, retailers, and wine critics. \n",
    "Our findings would impact the wine industry's production methods and quality assurance methods. If a standardized model is created, wine producers can rely on the model instead of a wine taster. Manufacturers can alter their wines' chemical constituents to ensure that their values lie within a very excellent range (as predicted by our model). Consumers' lives would be impacted because they would know which red-wine labels buy without tasting them. If the model is accurate, wine critics' importance will reduce as their role would only be limited to providing observations to improve our model. \n",
    "The resulting questions from our analysis could be, would the model derive results of the same level of accuracy and applicability for other types of wines? Is the method limited to specific sensory and subjective ranking procedures, and what would we define these limitations by? Can the model fully automate the quality testing process for red wine production?"
   ]
  }
 ],
 "metadata": {
  "kernelspec": {
   "display_name": "R",
   "language": "R",
   "name": "ir"
  },
  "language_info": {
   "codemirror_mode": "r",
   "file_extension": ".r",
   "mimetype": "text/x-r-source",
   "name": "R",
   "pygments_lexer": "r",
   "version": "4.0.0"
  }
 },
 "nbformat": 4,
 "nbformat_minor": 4
}
